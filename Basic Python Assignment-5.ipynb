{
 "cells": [
  {
   "cell_type": "markdown",
   "id": "4855fd17",
   "metadata": {},
   "source": [
    "1.\tWhat does an empty dictionary's code look like?\n",
    "\n",
    "Ans:-items=dict{}, items{}\n",
    "\n",
    "\n",
    "2.\tWhat is the value of a dictionary value with the key 'foo' and the value 42?\n",
    "\n",
    "\n",
    "Ans:- {‘foo’:42}\n",
    "\n",
    "3.\tWhat is the most significant distinction between a dictionary and a list?\n",
    "\n",
    "Ans:- The items stored in a dictionary are unordered, while the items in a list are ordered.\n",
    "\n",
    "4.\tWhat happens if you try to access spam['foo'] if spam is {'bar': 100}?\n",
    "\n",
    "Ans:- You get a KeyError error.\n",
    "\n",
    "\n",
    "5.\tIf a dictionary is stored in spam, what is the difference between the expressions 'cat' in spam and 'cat' in spam.keys()?\n",
    "\n",
    "\n",
    "Ans:- There is no difference. The in operator checks whether a value exists as a key in the dictionary.\n",
    "\n",
    "\n",
    "6.\tIf a dictionary is stored in spam, what is the difference between the expressions 'cat' in spam and 'cat' in spam.values()?\n",
    "\n",
    "\n",
    "Ans:- 'cat' in spam checks whether there is a 'cat' key in the dictionary, while 'cat' in spam.values() checks whether there is a value 'cat' for one of the keys in spam.\n",
    "\n",
    "\n",
    "7. What is a shortcut for the following code?\n",
    "\n",
    "\n",
    "if 'color' not in spam:\n",
    "spam['color'] = 'black'\n",
    "Ans:- spam.setdefault('color', 'black')\n",
    "\n",
    "\n",
    "\n",
    "8. How do you \"pretty print\" dictionary values using which module and function?\n",
    "\n",
    "\n",
    "    Ans:- pprint.pprint()\n",
    "\n"
   ]
  },
  {
   "cell_type": "code",
   "execution_count": null,
   "id": "302a27db",
   "metadata": {},
   "outputs": [],
   "source": []
  }
 ],
 "metadata": {
  "kernelspec": {
   "display_name": "Python 3 (ipykernel)",
   "language": "python",
   "name": "python3"
  },
  "language_info": {
   "codemirror_mode": {
    "name": "ipython",
    "version": 3
   },
   "file_extension": ".py",
   "mimetype": "text/x-python",
   "name": "python",
   "nbconvert_exporter": "python",
   "pygments_lexer": "ipython3",
   "version": "3.9.12"
  }
 },
 "nbformat": 4,
 "nbformat_minor": 5
}
